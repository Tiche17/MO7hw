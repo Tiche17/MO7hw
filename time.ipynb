{
 "cells": [
  {
   "cell_type": "code",
   "execution_count": 5,
   "metadata": {},
   "outputs": [
    {
     "name": "stdout",
     "output_type": "stream",
     "text": [
      "2024-05-05\n",
      "Parsed date: 2024-05-05\n"
     ]
    }
   ],
   "source": [
    "from datetime import datetime \n",
    "now = datetime .today()\n",
    "\n",
    "date_string = now.strftime(\"%Y-%m-%d\")\n",
    "\n",
    "with open(\"_today.txt\", \"w\") as file:\n",
    "    file.write(date_string) \n",
    "\n",
    "with open(\"_today.txt\", \"r\") as file:\n",
    "    today_string = file.read()\n",
    "\n",
    "print(today_string)\n",
    "\n",
    "\n",
    "try:\n",
    "    parsed_date = datetime.strptime(today_string, \"%Y-%m-%d\").date()\n",
    "    print(f\"Parsed date: {parsed_date}\")\n",
    "except ValueError:\n",
    "    print(\"Invalid date format in _today.txt\") \n",
    "\n",
    "\n"
   ]
  },
  {
   "cell_type": "code",
   "execution_count": 7,
   "metadata": {},
   "outputs": [],
   "source": [
    "import multiprocessing\n",
    "import time\n",
    "import random\n",
    "from datetime import datetime\n",
    "\n",
    "def worker():\n",
    "    \n",
    "    wait_time = random.uniform(0, 1)\n",
    "    time.sleep(wait_time)\n",
    "\n",
    "    \n",
    "    current_time = datetime.now().strftime(\"%Y-%m-%d %H:%M:%S\")\n",
    "    print(f\"Process: {multiprocessing.current_process().name} - Current Time: {current_time}\")\n",
    "\n",
    "if __name__ == \"__main__\":\n",
    "    \n",
    "    processes = []\n",
    "    for _ in range(3):\n",
    "        process = multiprocessing.Process(target=worker)\n",
    "        processes.append(process)\n",
    "        process.start()\n",
    "\n",
    "    \n",
    "    for process in processes:\n",
    "        process.join()"
   ]
  }
 ],
 "metadata": {
  "kernelspec": {
   "display_name": "Python 3",
   "language": "python",
   "name": "python3"
  },
  "language_info": {
   "codemirror_mode": {
    "name": "ipython",
    "version": 3
   },
   "file_extension": ".py",
   "mimetype": "text/x-python",
   "name": "python",
   "nbconvert_exporter": "python",
   "pygments_lexer": "ipython3",
   "version": "3.12.2"
  }
 },
 "nbformat": 4,
 "nbformat_minor": 2
}
